{
  "nbformat": 4,
  "nbformat_minor": 0,
  "metadata": {
    "colab": {
      "provenance": []
    },
    "kernelspec": {
      "name": "python3",
      "display_name": "Python 3"
    },
    "language_info": {
      "name": "python"
    }
  },
  "cells": [
    {
      "cell_type": "markdown",
      "source": [
        "O dataset utilizado para esse desafio é uma versão modificada do arquivo presente no Kaggle:\n",
        "https://www.kaggle.com/datasets/joshmcadams/oranges-vs-grapefruit\n",
        "\n",
        "O link do arquivo raw que vamos usar (aquele usamos para ler direto do Github) é esse aqui: \n",
        "https://raw.githubusercontent.com/allanspadini/numpy/dados/citrus.csv"
      ],
      "metadata": {
        "id": "MDEopNpWHa21"
      }
    },
    {
      "cell_type": "markdown",
      "source": [
        "# Leitura dos dados "
      ],
      "metadata": {
        "id": "tD0UDJwx11Pm"
      }
    },
    {
      "cell_type": "markdown",
      "source": [
        "Se você clicar no link verá que temos um arquivo com 6 colunas, sendo a primeira coluna do arquivo uma coluna de texto e a primeira linha do arquivo também é uma coluna de texto. \n",
        "\n",
        "Aqui o desafio é ler esse arquivo. Para isso importe a numpy e use a função loadtxt. Use o link da url, o parâmetro usecols para pular a primeira coluna. Você pode usar np.arange para criar a sequência de números que representam as colunas. Por fim, você também deve incluir o parâmetro skiprows=1 para que a primeira linha de texto seja desconsiderada na leitura do arquivo. "
      ],
      "metadata": {
        "id": "JtAll0D51rnJ"
      }
    },
    {
      "cell_type": "code",
      "source": [
        "import numpy as np\n",
        "url = 'https://raw.githubusercontent.com/allanspadini/numpy/dados/citrus.csv'\n",
        "dado = np.loadtxt(url, delimiter=',',usecols=np.arange(1,6,1),skiprows=1)"
      ],
      "metadata": {
        "id": "ATVhjGg0HZs1"
      },
      "execution_count": null,
      "outputs": []
    },
    {
      "cell_type": "code",
      "source": [
        "dado"
      ],
      "metadata": {
        "colab": {
          "base_uri": "https://localhost:8080/"
        },
        "id": "pzam9O055DCe",
        "outputId": "649a077c-a2fe-4070-fcfd-cf932c5b0704"
      },
      "execution_count": null,
      "outputs": [
        {
          "output_type": "execute_result",
          "data": {
            "text/plain": [
              "array([[  2.96,  86.76, 172.  ,  85.  ,   2.  ],\n",
              "       [  3.91,  88.05, 166.  ,  78.  ,   3.  ],\n",
              "       [  4.42,  95.17, 156.  ,  81.  ,   2.  ],\n",
              "       ...,\n",
              "       [ 15.59, 256.5 , 168.  ,  82.  ,  20.  ],\n",
              "       [ 15.92, 260.14, 142.  ,  72.  ,  11.  ],\n",
              "       [ 16.45, 261.51, 152.  ,  74.  ,   2.  ]])"
            ]
          },
          "metadata": {},
          "execution_count": 3
        }
      ]
    },
    {
      "cell_type": "markdown",
      "source": [
        "# Seleção de dados"
      ],
      "metadata": {
        "id": "iBFZDsV75fjE"
      }
    },
    {
      "cell_type": "markdown",
      "source": [
        "Desses a colunas que iremos avaliar são as de diâmetro e peso. Crie um arrays específicos para guardar o diâmetro e peso da laranja e toranja. O diâmtro está na coluna zero e o peso na coluna 1. Os dados referentes a laranja vão até a linha 4999 e os referentes à toranja iniciam na linha 5000 do arquivo. "
      ],
      "metadata": {
        "id": "IDkwBFww5nEq"
      }
    },
    {
      "cell_type": "code",
      "source": [
        "diametro_laranja = dado[:5000,0]\n",
        "diametro_toranja = dado[5000:,0]\n",
        "peso_laranja = dado[:5000,1]\n",
        "peso_toranja = dado[5000:,1]"
      ],
      "metadata": {
        "id": "cyzpCTh75Ih0"
      },
      "execution_count": null,
      "outputs": []
    },
    {
      "cell_type": "markdown",
      "source": [
        "# Visualização de dados"
      ],
      "metadata": {
        "id": "mcXYXlLC81em"
      }
    },
    {
      "cell_type": "markdown",
      "source": [
        "Importe a biblioteca matplotlib e crie um gráfico separado para a laranja e outro para a toranja do peso pelo diâmetro. "
      ],
      "metadata": {
        "id": "BVOuTNe485QX"
      }
    },
    {
      "cell_type": "code",
      "source": [
        "import matplotlib.pyplot as plt\n",
        "\n",
        "plt.plot(diametro_laranja, peso_laranja)\n",
        "plt.plot(diametro_toranja, peso_toranja)"
      ],
      "metadata": {
        "colab": {
          "base_uri": "https://localhost:8080/",
          "height": 282
        },
        "id": "4K68mbLk8DvJ",
        "outputId": "d8eaf902-b8aa-4239-a540-67e83200c04f"
      },
      "execution_count": null,
      "outputs": [
        {
          "output_type": "execute_result",
          "data": {
            "text/plain": [
              "[<matplotlib.lines.Line2D at 0x7f1c01d95a00>]"
            ]
          },
          "metadata": {},
          "execution_count": 17
        },
        {
          "output_type": "display_data",
          "data": {
            "text/plain": [
              "<Figure size 432x288 with 1 Axes>"
            ],
            "image/png": "[encoded data removed]"
          },
          "metadata": {
            "needs_background": "light"
          }
        }
      ]
    },
    {
      "cell_type": "markdown",
      "source": [
        "# O coeficiente das retas"
      ],
      "metadata": {
        "id": "-aGgWuRB-Uqv"
      }
    },
    {
      "cell_type": "markdown",
      "source": [
        "As duas parecem ter uma inclinação muito parecida em uma primeira inspeção visual vamos determinar os coeficientes da reta para cada um dos casos. \n",
        "\n",
        "Lembre que para o coeficiente angular precisamos implementar a função:\n",
        "$$ \\hat{a} = \\frac{n*Soma( X_i*Y_i ) - Soma( X_i )*Soma(Y_i)}{n Soma(X_i^2) - (Soma(X_i))^2}$$ \n",
        "\n",
        "e para o coeficiente linear:\n",
        "$$ \\hat{b} = Media(Y_i) - \\hat{a} * Media(X_i) $$\n"
      ],
      "metadata": {
        "id": "vc814-m7B1Xh"
      }
    },
    {
      "cell_type": "markdown",
      "source": [
        "Perceba que nesse caso o X é o diâmtro e o Y é o peso. Além disso o n é o número de elementos dentro do X, por exemplo.Ele vai ser diferente para a laranja e toranja. Determine o coefiecente para cada caso:"
      ],
      "metadata": {
        "id": "d4Hk5fyPCf3v"
      }
    },
    {
      "cell_type": "code",
      "source": [
        "Y = peso_laranja\n",
        "X = diametro_laranja\n",
        "n = np.size(X)"
      ],
      "metadata": {
        "id": "n3J8iOeDBkgn"
      },
      "execution_count": null,
      "outputs": []
    },
    {
      "cell_type": "code",
      "source": [
        "a = (n*np.sum(X*Y) - np.sum(X)*np.sum(Y))/(n*np.sum(X**2)-np.sum(X)**2)\n",
        "a"
      ],
      "metadata": {
        "colab": {
          "base_uri": "https://localhost:8080/"
        },
        "id": "OdUBKX3WDClF",
        "outputId": "88b9232f-5989-488e-c818-7a6266131147"
      },
      "execution_count": null,
      "outputs": [
        {
          "output_type": "execute_result",
          "data": {
            "text/plain": [
              "14.7997452319846"
            ]
          },
          "metadata": {},
          "execution_count": 28
        }
      ]
    },
    {
      "cell_type": "code",
      "source": [
        "b = np.mean(Y) - a*np.mean(X)\n",
        "b"
      ],
      "metadata": {
        "colab": {
          "base_uri": "https://localhost:8080/"
        },
        "id": "31oiIbk5DEcu",
        "outputId": "ed351386-a682-4e85-8d02-083ac168d419"
      },
      "execution_count": null,
      "outputs": [
        {
          "output_type": "execute_result",
          "data": {
            "text/plain": [
              "27.38560381218413"
            ]
          },
          "metadata": {},
          "execution_count": 29
        }
      ]
    },
    {
      "cell_type": "code",
      "source": [
        "Y = peso_toranja\n",
        "X = diametro_toranja\n",
        "n = np.size(X)"
      ],
      "metadata": {
        "id": "LgVZSkLaDG_W"
      },
      "execution_count": null,
      "outputs": []
    },
    {
      "cell_type": "code",
      "source": [
        "a = (n*np.sum(X*Y) - np.sum(X)*np.sum(Y))/(n*np.sum(X**2)-np.sum(X)**2)\n",
        "a"
      ],
      "metadata": {
        "colab": {
          "base_uri": "https://localhost:8080/"
        },
        "id": "C7CT4dwqDPlJ",
        "outputId": "18930076-5c3d-4276-ebc7-8cbfd153b35e"
      },
      "execution_count": null,
      "outputs": [
        {
          "output_type": "execute_result",
          "data": {
            "text/plain": [
              "15.70884459360376"
            ]
          },
          "metadata": {},
          "execution_count": 31
        }
      ]
    },
    {
      "cell_type": "code",
      "source": [
        "b = np.mean(Y) - a*np.mean(X)\n",
        "b"
      ],
      "metadata": {
        "colab": {
          "base_uri": "https://localhost:8080/"
        },
        "id": "4VMDvta8DRad",
        "outputId": "477d7ac2-6074-4513-b4ac-c5d67ddc047f"
      },
      "execution_count": null,
      "outputs": [
        {
          "output_type": "execute_result",
          "data": {
            "text/plain": [
              "17.007102876817726"
            ]
          },
          "metadata": {},
          "execution_count": 32
        }
      ]
    },
    {
      "cell_type": "markdown",
      "source": [
        "Se deu tudo você deve ter chegado em valores diferentes para cada um dos casos. Então, embora a inclinação da reta seja parecida nós descobrimos que os coeficientes da reta servem como uma forma de diferenciar se as frutas são laranjas ou toranjas. "
      ],
      "metadata": {
        "id": "MSBkD4piDWFx"
      }
    },
    {
      "cell_type": "markdown",
      "source": [
        "# Estimando através de números aleatórios"
      ],
      "metadata": {
        "id": "gnovlUPFD0dL"
      }
    },
    {
      "cell_type": "markdown",
      "source": [
        "Agora ao invés de usar a fórmula fechada utilize a np.random.uniform para gerar valores aleatórios para determinar o coeficiente angular da toranja. Nesse caso vamos assumir que b é igual a 17. Utilize o random.seed(84). "
      ],
      "metadata": {
        "id": "wyjSiESPD75_"
      }
    },
    {
      "cell_type": "code",
      "source": [
        "b =17"
      ],
      "metadata": {
        "id": "BBVu9EVqDT-R"
      },
      "execution_count": null,
      "outputs": []
    },
    {
      "cell_type": "code",
      "source": [
        "norma = np.array([])\n",
        "np.random.seed(84)\n",
        "coef_angulares = np.random.uniform(low=0.0,high=30.0,size=100)\n",
        "\n",
        "for i in range(100):\n",
        "  norma = np.append(norma,np.linalg.norm(Y- (coef_angulares[i]*X+b)))"
      ],
      "metadata": {
        "id": "_M7pZGIpEXxZ"
      },
      "execution_count": null,
      "outputs": []
    },
    {
      "cell_type": "code",
      "source": [
        "norma"
      ],
      "metadata": {
        "colab": {
          "base_uri": "https://localhost:8080/"
        },
        "id": "PIyp8gDlEqa2",
        "outputId": "674ab519-90f8-4afb-9aa5-63ff9ce689f6"
      },
      "execution_count": null,
      "outputs": [
        {
          "output_type": "execute_result",
          "data": {
            "text/plain": [
              "array([11693.67355856,  3756.21335179,  6888.14382259,  2567.04685515,\n",
              "       11420.77932891,  9623.66917996,  8570.85655292,  6496.51679273,\n",
              "        2577.28271294,  9613.12064833,  5709.72883857,   695.35964734,\n",
              "       10855.07029288,  5539.82389583,  3137.98293399,   296.30778902,\n",
              "        8896.93668493,  8347.82090288, 10206.95670568, 10229.7542583 ,\n",
              "        2193.54863897,  8448.39951623, 11004.80458021, 11563.3388543 ,\n",
              "        4098.18752189,  7732.70842098,  2801.84736004,  7688.60780777,\n",
              "       11134.73586307,  9432.12778879,   725.4664674 ,  6290.36141277,\n",
              "        5189.67184491,  4716.99608173,  9250.47142251,  7274.49676931,\n",
              "        8876.20611799,   621.16747277,  4716.1854569 ,  8050.51001798,\n",
              "        9238.31227388,  3992.98429323, 11531.1764187 ,  5849.11139809,\n",
              "        1042.57303406,  9875.3710071 , 11759.24152592,  8956.15615033,\n",
              "        2219.50808351,  3585.49846047, 11347.59016791,  2477.87811921,\n",
              "         878.91891293,  2740.88025627,  1766.171738  ,   710.47076735,\n",
              "       10067.07162101,  6347.17090822, 12388.06675209,  4279.10033959,\n",
              "        6946.02067623,  2906.41428845,   104.40529157,  7558.60939751,\n",
              "        4224.62973567,  8179.74838026, 12397.73292649, 11190.99930959,\n",
              "        7036.14719367, 10703.05130551, 12509.21786548,  5889.31418963,\n",
              "        7255.35608235, 12754.02485478,  4277.22119478,  2053.04097821,\n",
              "        8376.42892243,   389.94011406,  5896.97003989, 10488.87297294,\n",
              "        1195.54220071,  6454.27729425,  5255.27304236, 12297.4767493 ,\n",
              "        5899.92818696,  6505.81020644, 10388.25661606,  4879.40103495,\n",
              "        7477.48430382,  1220.34716028,  9802.44671627,  1360.59082421,\n",
              "         505.47719741,  1003.95500109,  2008.05819559,   371.10522699,\n",
              "        2094.74163899,  4658.97873807,  5043.61920931,  4893.93574007])"
            ]
          },
          "metadata": {},
          "execution_count": 35
        }
      ]
    },
    {
      "cell_type": "markdown",
      "source": [
        "\n",
        "Se deu tudo certo a menor norma que você alcançou foi 104.40529157196431."
      ],
      "metadata": {
        "id": "HH8OQeRFEyXN"
      }
    },
    {
      "cell_type": "code",
      "source": [
        "np.min(norma)"
      ],
      "metadata": {
        "colab": {
          "base_uri": "https://localhost:8080/"
        },
        "id": "QIOTN9cOEs-V",
        "outputId": "b83af637-1b89-4211-e776-b26fc2000da5"
      },
      "execution_count": null,
      "outputs": [
        {
          "output_type": "execute_result",
          "data": {
            "text/plain": [
              "104.40529157196431"
            ]
          },
          "metadata": {},
          "execution_count": 38
        }
      ]
    },
    {
      "cell_type": "markdown",
      "source": [
        "Algo que não foi passado no curso é que também podemos utilizar condições dentro dos colchetes dos arrays para encontrar um determinado valor. O código abaixo mostra o coeficiente angular que corresponde ao menor valor da norma. Repare que a condição é a: norma == np.min(norma)."
      ],
      "metadata": {
        "id": "y9wucQ9_FDe9"
      }
    },
    {
      "cell_type": "code",
      "source": [
        "coef_angulares[norma == np.min(norma)]"
      ],
      "metadata": {
        "colab": {
          "base_uri": "https://localhost:8080/"
        },
        "id": "b2PIjDBfExLd",
        "outputId": "4fff127b-9820-40b7-a897-63653a245883"
      },
      "execution_count": null,
      "outputs": [
        {
          "output_type": "execute_result",
          "data": {
            "text/plain": [
              "array([15.82512199])"
            ]
          },
          "metadata": {},
          "execution_count": 39
        }
      ]
    },
    {
      "cell_type": "markdown",
      "source": [
        "# Parabéns por ter chegado até aqui.\n",
        "\n",
        "https://media.giphy.com/media/l2JJHEW1lToNnJzxe/giphy.gif"
      ],
      "metadata": {
        "id": "MJLSkwqMGzE5"
      }
    }
  ]
}